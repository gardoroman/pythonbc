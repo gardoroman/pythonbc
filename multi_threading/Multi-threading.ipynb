{
 "cells": [
  {
   "cell_type": "markdown",
   "metadata": {},
   "source": [
    "# Multi-threading"
   ]
  },
  {
   "cell_type": "markdown",
   "metadata": {},
   "source": [
    "single threaded example:"
   ]
  },
  {
   "cell_type": "code",
   "execution_count": 1,
   "metadata": {},
   "outputs": [],
   "source": [
    "from random import random"
   ]
  },
  {
   "cell_type": "code",
   "execution_count": 4,
   "metadata": {},
   "outputs": [],
   "source": [
    "def find_pi(n):\n",
    "    \n",
    "    inside = 0\n",
    "    \n",
    "    for _i in range(0,n):\n",
    "        x = random()\n",
    "        y = random()\n",
    "        if (x*x + y*y)**(0.5) <=1:\n",
    "            inside +=1\n",
    "    \n",
    "    pi = 4 * inside / n\n",
    "    return pi"
   ]
  },
  {
   "cell_type": "code",
   "execution_count": 11,
   "metadata": {},
   "outputs": [
    {
     "data": {
      "text/plain": [
       "3.1664"
      ]
     },
     "execution_count": 11,
     "metadata": {},
     "output_type": "execute_result"
    }
   ],
   "source": [
    "find_pi(5000)"
   ]
  },
  {
   "cell_type": "code",
   "execution_count": 13,
   "metadata": {},
   "outputs": [
    {
     "name": "stdout",
     "output_type": "stream",
     "text": [
      "Overwriting monte.py\n"
     ]
    }
   ],
   "source": [
    "%%writefile monte.py\n",
    "\n",
    "from random import random\n",
    "from multiprocessing import Pool\n",
    "import timeit\n",
    "\n",
    "def find_pi(n):\n",
    "    inside = 0\n",
    "    \n",
    "    for _i in range(0, n):\n",
    "        x = random()\n",
    "        y = random()\n",
    "        if (x*x + y*y)**(0.5) <=1:\n",
    "            inside +=1\n",
    "    \n",
    "    pi = 4 * inside / n\n",
    "    return pi\n",
    "\n",
    "if __name__ == '__main__':\n",
    "    N = 10 ** 5\n",
    "    P = 5\n",
    "    \n",
    "    p = Pool(P)\n",
    "    print(timeit.timeit(lambda: print(f'{sum(p.map(find_pi,[N//P]*P))/P:0.7f}'), number=10))\n",
    "    p.close()\n",
    "    p.join()\n",
    "    print(f'{N} total iterations with {P} processes')"
   ]
  },
  {
   "cell_type": "code",
   "execution_count": 16,
   "metadata": {},
   "outputs": [
    {
     "name": "stdout",
     "output_type": "stream",
     "text": [
      "3.1387600\n",
      "3.1449200\n",
      "3.1416400\n",
      "3.1427600\n",
      "3.1357600\n",
      "3.1455200\n",
      "3.1413600\n",
      "3.1478400\n",
      "3.1484400\n",
      "3.1431600\n",
      "0.6236002949990507\n",
      "100000 total iterations with 5 processes\n"
     ]
    }
   ],
   "source": [
    "! python monte.py"
   ]
  },
  {
   "cell_type": "code",
   "execution_count": null,
   "metadata": {},
   "outputs": [],
   "source": []
  }
 ],
 "metadata": {
  "kernelspec": {
   "display_name": "Python 3",
   "language": "python",
   "name": "python3"
  },
  "language_info": {
   "codemirror_mode": {
    "name": "ipython",
    "version": 3
   },
   "file_extension": ".py",
   "mimetype": "text/x-python",
   "name": "python",
   "nbconvert_exporter": "python",
   "pygments_lexer": "ipython3",
   "version": "3.6.6"
  }
 },
 "nbformat": 4,
 "nbformat_minor": 2
}
