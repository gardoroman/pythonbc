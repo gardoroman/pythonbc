{
 "cells": [
  {
   "cell_type": "markdown",
   "metadata": {},
   "source": [
    "# OOP intro"
   ]
  },
  {
   "cell_type": "code",
   "execution_count": 1,
   "metadata": {},
   "outputs": [
    {
     "data": {
      "text/plain": [
       "tuple"
      ]
     },
     "execution_count": 1,
     "metadata": {},
     "output_type": "execute_result"
    }
   ],
   "source": [
    "type(())"
   ]
  },
  {
   "cell_type": "code",
   "execution_count": 2,
   "metadata": {},
   "outputs": [
    {
     "data": {
      "text/plain": [
       "__main__.Sample"
      ]
     },
     "execution_count": 2,
     "metadata": {},
     "output_type": "execute_result"
    }
   ],
   "source": [
    "class Sample:\n",
    "    pass\n",
    "\n",
    "x = Sample()\n",
    "type(x)"
   ]
  },
  {
   "cell_type": "markdown",
   "metadata": {},
   "source": [
    "\\__init\\__() is a special method. It is automatically called after an object is created.  \n",
    "Attributes are placed outside of methods and by convention are written before \\__init\\__"
   ]
  },
  {
   "cell_type": "code",
   "execution_count": 3,
   "metadata": {},
   "outputs": [],
   "source": [
    "class Dog:\n",
    "    \n",
    "    #attributes are placed outside of class methods.\n",
    "    species = \"mammal\"\n",
    "    \n",
    "    def __init__(self, breed, name):\n",
    "        self.breed = breed\n",
    "        self.name = name"
   ]
  },
  {
   "cell_type": "code",
   "execution_count": 4,
   "metadata": {},
   "outputs": [],
   "source": [
    "sofie = Dog('mini', \"Sofie\")"
   ]
  },
  {
   "cell_type": "code",
   "execution_count": 5,
   "metadata": {},
   "outputs": [
    {
     "data": {
      "text/plain": [
       "'Sofie'"
      ]
     },
     "execution_count": 5,
     "metadata": {},
     "output_type": "execute_result"
    }
   ],
   "source": [
    "sofie.name"
   ]
  },
  {
   "cell_type": "code",
   "execution_count": 6,
   "metadata": {},
   "outputs": [
    {
     "data": {
      "text/plain": [
       "'mammal'"
      ]
     },
     "execution_count": 6,
     "metadata": {},
     "output_type": "execute_result"
    }
   ],
   "source": [
    "sofie.species"
   ]
  },
  {
   "cell_type": "markdown",
   "metadata": {},
   "source": [
    "## note: pi can be called with Circle.pi or self.pi"
   ]
  },
  {
   "cell_type": "code",
   "execution_count": 7,
   "metadata": {},
   "outputs": [
    {
     "name": "stdout",
     "output_type": "stream",
     "text": [
      "Radius is:  1\n",
      "Area is:  3.14\n",
      "Circumference is:  6.28\n"
     ]
    }
   ],
   "source": [
    "class Circle:\n",
    "    pi = 3.14\n",
    "    \n",
    "    def __init__(self, radius=1):\n",
    "        self.radius = radius\n",
    "        self.area = radius * radius * Circle.pi\n",
    "        \n",
    "    def set_radius(self, new_radius):\n",
    "        self.radius = new_radius\n",
    "        self.area = new_radius * new_radius * self.pi\n",
    "    \n",
    "    def get_circumference(self):\n",
    "        return self.radius * self.pi * 2\n",
    "    \n",
    "c = Circle()\n",
    "\n",
    "print(\"Radius is: \", c.radius)\n",
    "print(\"Area is: \", c.area)\n",
    "print(\"Circumference is: \", c.get_circumference())"
   ]
  },
  {
   "cell_type": "code",
   "execution_count": 9,
   "metadata": {},
   "outputs": [
    {
     "name": "stdout",
     "output_type": "stream",
     "text": [
      "radius is: 2\n",
      "Area is 12.56\n",
      "Cirumference is 12.56\n"
     ]
    }
   ],
   "source": [
    "c.set_radius(2)\n",
    "\n",
    "print(f'radius is: {c.radius}')\n",
    "print(f'Area is {c.area}')\n",
    "print(f'Cirumference is {c.get_circumference()}')"
   ]
  },
  {
   "cell_type": "markdown",
   "metadata": {},
   "source": []
  },
  {
   "cell_type": "markdown",
   "metadata": {},
   "source": [
    "## Inheritance  \n",
    "New classes can be derived from base classes  \n",
    "Note: the derived class takes in the base class in the class definition"
   ]
  },
  {
   "cell_type": "code",
   "execution_count": 35,
   "metadata": {},
   "outputs": [],
   "source": [
    "class Animal:\n",
    "    def __init__(self):\n",
    "        print(\"Animal created\")\n",
    "    \n",
    "    def who_ami(self):\n",
    "        print(\"Animal\")\n",
    "        \n",
    "    def eat(self):\n",
    "        print(\"Eating\")\n",
    "        \n",
    "\n",
    "class Dog(Animal):\n",
    "    def __init__(self):\n",
    "        Animal.__init__(self)\n",
    "        print(\"Dog created\")\n",
    "        \n",
    "    def who_ami(self):\n",
    "        print(\"Dog\")\n",
    "        \n",
    "    def bark(self):\n",
    "        print(\"Arf\")"
   ]
  },
  {
   "cell_type": "code",
   "execution_count": 36,
   "metadata": {},
   "outputs": [
    {
     "name": "stdout",
     "output_type": "stream",
     "text": [
      "Animal created\n",
      "Dog created\n"
     ]
    }
   ],
   "source": [
    "d = Dog()"
   ]
  },
  {
   "cell_type": "code",
   "execution_count": 37,
   "metadata": {},
   "outputs": [
    {
     "name": "stdout",
     "output_type": "stream",
     "text": [
      "Dog\n"
     ]
    }
   ],
   "source": [
    "d.who_ami()"
   ]
  },
  {
   "cell_type": "code",
   "execution_count": 38,
   "metadata": {},
   "outputs": [
    {
     "name": "stdout",
     "output_type": "stream",
     "text": [
      "Eating\n"
     ]
    }
   ],
   "source": [
    "d.eat()"
   ]
  },
  {
   "cell_type": "markdown",
   "metadata": {},
   "source": [
    "## Polymorphism  \n",
    "The convention is to create an abstract method which is never intended to be implemented. Polymorphism in Python refers to how objects with from different classes can have the same method name.\n",
    "It is typically used with abstract classes and inheritance."
   ]
  },
  {
   "cell_type": "code",
   "execution_count": 2,
   "metadata": {},
   "outputs": [
    {
     "name": "stdout",
     "output_type": "stream",
     "text": [
      "Sofie says woof\n",
      "<class '__main__.Dog'>\n",
      "Kiko says meow\n",
      "<class '__main__.Cat'>\n"
     ]
    }
   ],
   "source": [
    "class Animal:\n",
    "    def __init__(self, name):\n",
    "        self.name = name\n",
    "    def speak(self):\n",
    "        raise NotImplementedError(\"Subclass must implement abstract method\")\n",
    "        \n",
    "class Dog(Animal):\n",
    "    def speak(self):\n",
    "        return self.name + \" says woof\"\n",
    "    \n",
    "class Cat(Animal):\n",
    "    def speak(self):\n",
    "        return self.name + \" says meow\"\n",
    "\n",
    "sofie = Dog(\"Sofie\")\n",
    "kiko = Cat(\"Kiko\")\n",
    "\n",
    "for pet in [sofie, kiko]:\n",
    "    print(pet.speak())\n",
    "    print(type(pet))\n",
    "\n",
    "    "
   ]
  },
  {
   "cell_type": "markdown",
   "metadata": {},
   "source": [
    "## Special Methods  \n",
    "Python has special methods implement behind the scenes. "
   ]
  },
  {
   "cell_type": "code",
   "execution_count": 10,
   "metadata": {},
   "outputs": [],
   "source": [
    "class Book:\n",
    "    def __init__(self, title, author, num_pages):\n",
    "        self.title = title\n",
    "        self.author = author\n",
    "        self.num_pages = num_pages\n",
    "    \n",
    "    def __str__(self):\n",
    "        return f\"Title: {self.title}, author: {self.author}, pages: {self.num_pages}\"\n",
    "    \n",
    "    def __len__(self):\n",
    "        '''\n",
    "        __len__ is invoked as len(book)\n",
    "        len() is invoked as book.len()\n",
    "        '''\n",
    "#     def len(self):\n",
    "        return self.num_pages\n",
    "    def __del__(self):\n",
    "        print(\"Book is deleted\")"
   ]
  },
  {
   "cell_type": "code",
   "execution_count": 22,
   "metadata": {},
   "outputs": [
    {
     "name": "stdout",
     "output_type": "stream",
     "text": [
      "*\n",
      "*\n",
      "500\n"
     ]
    }
   ],
   "source": [
    "b = Book(\"The Iliad\", \"Homer\", 500)\n",
    "# print(b)\n",
    "print(\"*\")\n",
    "str(b)\n",
    "print(\"*\")\n",
    "print(len(b))\n",
    "\n",
    "# del b"
   ]
  },
  {
   "cell_type": "code",
   "execution_count": 24,
   "metadata": {},
   "outputs": [
    {
     "data": {
      "text/plain": [
       "'Title: The Iliad, author: Homer, pages: 500'"
      ]
     },
     "execution_count": 24,
     "metadata": {},
     "output_type": "execute_result"
    }
   ],
   "source": [
    "str(b)"
   ]
  },
  {
   "cell_type": "code",
   "execution_count": null,
   "metadata": {},
   "outputs": [],
   "source": []
  }
 ],
 "metadata": {
  "kernelspec": {
   "display_name": "Python 3",
   "language": "python",
   "name": "python3"
  },
  "language_info": {
   "codemirror_mode": {
    "name": "ipython",
    "version": 3
   },
   "file_extension": ".py",
   "mimetype": "text/x-python",
   "name": "python",
   "nbconvert_exporter": "python",
   "pygments_lexer": "ipython3",
   "version": "3.6.6"
  }
 },
 "nbformat": 4,
 "nbformat_minor": 2
}
