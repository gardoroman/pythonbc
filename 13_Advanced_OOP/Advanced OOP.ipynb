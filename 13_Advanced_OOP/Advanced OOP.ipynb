{
 "cells": [
  {
   "cell_type": "markdown",
   "metadata": {},
   "source": [
    "# Advanced OOP"
   ]
  },
  {
   "cell_type": "markdown",
   "metadata": {},
   "source": [
    "If an \\_\\_init\\_\\_ method is not defined in a child class the base class \\_\\_init\\_\\_ method is called. In order to use the base class' dunder init it must be called from within the child class."
   ]
  },
  {
   "cell_type": "code",
   "execution_count": 1,
   "metadata": {},
   "outputs": [
    {
     "name": "stdout",
     "output_type": "stream",
     "text": [
      "Paddington\n",
      "4\n",
      "yes\n"
     ]
    }
   ],
   "source": [
    "class Animal:\n",
    "    def __init__(self, name, legs):\n",
    "        self.name = name\n",
    "        self.legs = legs\n",
    "\n",
    "class Bear(Animal):\n",
    "    def __init__(self, name, legs=4, hibernate='yes'):\n",
    "        Animal.__init__(self, name, legs)\n",
    "        self.hibernate = hibernate\n",
    "\n",
    "p = Bear('Paddington')\n",
    "print(p.name)\n",
    "print(p.legs)\n",
    "print(p.hibernate)"
   ]
  },
  {
   "cell_type": "markdown",
   "metadata": {},
   "source": [
    "## super()"
   ]
  },
  {
   "cell_type": "code",
   "execution_count": 2,
   "metadata": {},
   "outputs": [],
   "source": [
    "class A:\n",
    "    def truth(self):\n",
    "        return \"All numbers are even\"\n",
    "    \n",
    "    def get_unique_string():\n",
    "        return \"unique\"\n",
    "    \n",
    "class B(A):\n",
    "    pass\n",
    "\n",
    "class C(A):\n",
    "    def truth(self):\n",
    "        return \"some numbers are even\""
   ]
  },
  {
   "cell_type": "code",
   "execution_count": 12,
   "metadata": {},
   "outputs": [
    {
     "data": {
      "text/plain": [
       "'All numbers are even'"
      ]
     },
     "execution_count": 12,
     "metadata": {},
     "output_type": "execute_result"
    }
   ],
   "source": [
    "class D(B,C):\n",
    "    def truth(self, num):\n",
    "        if num % 2 == 0:\n",
    "            return A.truth(self)\n",
    "        else:\n",
    "            return super().truth()\n",
    "\n",
    "d = D()\n",
    "d.truth(6)\n"
   ]
  },
  {
   "cell_type": "code",
   "execution_count": 13,
   "metadata": {},
   "outputs": [
    {
     "data": {
      "text/plain": [
       "'some numbers are even'"
      ]
     },
     "execution_count": 13,
     "metadata": {},
     "output_type": "execute_result"
    }
   ],
   "source": [
    "d.truth(7)"
   ]
  },
  {
   "cell_type": "code",
   "execution_count": null,
   "metadata": {},
   "outputs": [],
   "source": []
  }
 ],
 "metadata": {
  "kernelspec": {
   "display_name": "Python 3",
   "language": "python",
   "name": "python3"
  },
  "language_info": {
   "codemirror_mode": {
    "name": "ipython",
    "version": 3
   },
   "file_extension": ".py",
   "mimetype": "text/x-python",
   "name": "python",
   "nbconvert_exporter": "python",
   "pygments_lexer": "ipython3",
   "version": "3.6.6"
  }
 },
 "nbformat": 4,
 "nbformat_minor": 2
}
