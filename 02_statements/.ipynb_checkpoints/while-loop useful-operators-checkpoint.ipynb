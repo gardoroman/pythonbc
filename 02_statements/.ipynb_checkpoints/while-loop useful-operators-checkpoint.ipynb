{
 "cells": [
  {
   "cell_type": "markdown",
   "metadata": {},
   "source": [
    "# While Loops"
   ]
  },
  {
   "cell_type": "markdown",
   "metadata": {},
   "source": [
    "break: breaks out of the closest enclosing loop  \n",
    "continue: goes to the top of the closest enclosing loop  \n",
    "pass: does nothing at all"
   ]
  },
  {
   "cell_type": "code",
   "execution_count": 1,
   "metadata": {},
   "outputs": [],
   "source": [
    "x = 0"
   ]
  },
  {
   "cell_type": "code",
   "execution_count": 2,
   "metadata": {},
   "outputs": [
    {
     "name": "stdout",
     "output_type": "stream",
     "text": [
      "...1\n",
      "2 is even\n",
      "4 is even\n",
      "...5\n",
      "6 is even\n"
     ]
    }
   ],
   "source": [
    "while x < 10:\n",
    "    \n",
    "    x += 1 \n",
    "    if x % 2 == 0:\n",
    "        print(f'{x} is even')\n",
    "    elif x == 3:\n",
    "        continue\n",
    "    elif x == 7:\n",
    "        break\n",
    "    else:\n",
    "        print(f'...{x}')"
   ]
  },
  {
   "cell_type": "markdown",
   "metadata": {},
   "source": [
    "## more on pass  \n",
    "pass is used as a placeholder to fulfill python's syntax rules"
   ]
  },
  {
   "cell_type": "code",
   "execution_count": null,
   "metadata": {},
   "outputs": [],
   "source": []
  }
 ],
 "metadata": {
  "kernelspec": {
   "display_name": "Python 3",
   "language": "python",
   "name": "python3"
  },
  "language_info": {
   "codemirror_mode": {
    "name": "ipython",
    "version": 3
   },
   "file_extension": ".py",
   "mimetype": "text/x-python",
   "name": "python",
   "nbconvert_exporter": "python",
   "pygments_lexer": "ipython3",
   "version": "3.6.6"
  }
 },
 "nbformat": 4,
 "nbformat_minor": 2
}
