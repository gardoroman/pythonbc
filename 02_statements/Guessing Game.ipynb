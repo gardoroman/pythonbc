{
 "cells": [
  {
   "cell_type": "markdown",
   "metadata": {},
   "source": [
    "# Guessing game using 'while'"
   ]
  },
  {
   "cell_type": "code",
   "execution_count": 3,
   "metadata": {},
   "outputs": [
    {
     "name": "stdout",
     "output_type": "stream",
     "text": [
      "guess nummber: 5\n",
      "Cold\n",
      "guess nummber: 11\n",
      "Warmer\n",
      "guess nummber: 15\n",
      "Warmer\n",
      "guess nummber: 16\n",
      "Warmer\n",
      "guess nummber: 22\n",
      "Colder\n",
      "guess nummber: 18\n",
      "Warmer\n",
      "guess nummber: 19\n",
      "Warmer\n",
      "guess nummber: 20\n",
      "Colder\n",
      "guess nummber: 17\n",
      "Warmer\n",
      "guess nummber: 14\n",
      "yes\n"
     ]
    }
   ],
   "source": [
    "has_not_guessed = True\n",
    "first_loop = True\n",
    "from random import randint\n",
    "num_to_guess = randint(1,25)\n",
    "while has_not_guessed:\n",
    "    if first_loop:\n",
    "        warm_guess = \"Warm\"\n",
    "        cold_guess = \"Cold\"\n",
    "        first_loop = False\n",
    "    else:\n",
    "        warm_guess = \"Warmer\"\n",
    "        cold_guess = \"Colder\"\n",
    "    guess = int(input(\"guess nummber: \"))\n",
    "    if guess == num_to_guess:\n",
    "        print(\"yes\")\n",
    "        has_not_guessed = False\n",
    "    elif abs(guess - num_to_guess) < 6:\n",
    "        print(warm_guess)\n",
    "    elif abs(guess - num_to_guess) > 5:\n",
    "        print(cold_guess)"
   ]
  },
  {
   "cell_type": "code",
   "execution_count": null,
   "metadata": {},
   "outputs": [],
   "source": []
  }
 ],
 "metadata": {
  "kernelspec": {
   "display_name": "Python 3",
   "language": "python",
   "name": "python3"
  },
  "language_info": {
   "codemirror_mode": {
    "name": "ipython",
    "version": 3
   },
   "file_extension": ".py",
   "mimetype": "text/x-python",
   "name": "python",
   "nbconvert_exporter": "python",
   "pygments_lexer": "ipython3",
   "version": "3.6.6"
  }
 },
 "nbformat": 4,
 "nbformat_minor": 2
}
